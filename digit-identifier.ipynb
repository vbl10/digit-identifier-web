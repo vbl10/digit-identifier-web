{
 "cells": [
  {
   "cell_type": "code",
   "execution_count": 52,
   "id": "0f1748c7",
   "metadata": {},
   "outputs": [],
   "source": [
    "import torch\n",
    "import torch.nn.functional as F\n",
    "import matplotlib.pyplot as plt\n",
    "import struct\n",
    "import os"
   ]
  },
  {
   "cell_type": "markdown",
   "id": "4bb036ff",
   "metadata": {},
   "source": [
    "## 1. Load MNIST dataset"
   ]
  },
  {
   "cell_type": "code",
   "execution_count": 12,
   "id": "b6c90a86",
   "metadata": {},
   "outputs": [],
   "source": [
    "data_dir = './digit-identifier/data'"
   ]
  },
  {
   "cell_type": "code",
   "execution_count": 40,
   "id": "1f0ae4cf",
   "metadata": {},
   "outputs": [],
   "source": [
    "## load MNIST labeled hand-written digits images\n",
    "train_images = []\n",
    "train_labels = []\n",
    "\n",
    "test_images = []\n",
    "test_labels = []\n",
    "\n",
    "with open(os.path.join(data_dir, 'train-images.idx3-ubyte'), 'rb') as images_file:\n",
    "    images_file.read(16)\n",
    "    train_images = struct.unpack(f'{60000*28*28}B', images_file.read())\n",
    "\n",
    "with open(os.path.join(data_dir, 'train-labels.idx1-ubyte'), 'rb') as labels_file:\n",
    "    labels_file.read(8)\n",
    "    train_labels = struct.unpack(f'{60000}B', labels_file.read())\n",
    "\n",
    "\n",
    "with open(os.path.join(data_dir, 't10k-images.idx3-ubyte'), 'rb') as images_file:\n",
    "    images_file.read(16)\n",
    "    test_images = struct.unpack(f'{10000*28*28}B', images_file.read())\n",
    "\n",
    "with open(os.path.join(data_dir, 't10k-labels.idx1-ubyte'), 'rb') as labels_file:\n",
    "    labels_file.read(8)\n",
    "    test_labels = struct.unpack(f'{10000}B', labels_file.read())\n"
   ]
  },
  {
   "cell_type": "code",
   "execution_count": 41,
   "id": "4a51acb7",
   "metadata": {},
   "outputs": [],
   "source": [
    "Xtr = torch.tensor(train_images).view(60000, 28, 28) / 255\n",
    "Ytr = torch.tensor(train_labels)\n",
    "\n",
    "Xte = torch.tensor(test_images).view(10000, 28, 28) / 255\n",
    "Yte = torch.tensor(test_labels)"
   ]
  },
  {
   "cell_type": "code",
   "execution_count": 42,
   "id": "eac22372",
   "metadata": {},
   "outputs": [
    {
     "data": {
      "text/plain": [
       "(torch.Size([60000, 28, 28]), torch.Size([60000]))"
      ]
     },
     "execution_count": 42,
     "metadata": {},
     "output_type": "execute_result"
    }
   ],
   "source": [
    "Xtr.shape, Ytr.shape"
   ]
  },
  {
   "cell_type": "code",
   "execution_count": 44,
   "id": "846e3ea8",
   "metadata": {},
   "outputs": [
    {
     "data": {
      "image/png": "[encoded data removed]",
      "text/plain": [
       "<Figure size 640x480 with 5 Axes>"
      ]
     },
     "metadata": {},
     "output_type": "display_data"
    }
   ],
   "source": [
    "fig, axs = plt.subplots(1, 5)\n",
    "for i in range(5):\n",
    "    axs[i].imshow(Xtr[i], cmap='gray')\n",
    "    axs[i].set_title(Ytr[i].item())"
   ]
  },
  {
   "cell_type": "markdown",
   "id": "72309374",
   "metadata": {},
   "source": [
    "## 2. Create Neural Network"
   ]
  },
  {
   "cell_type": "code",
   "execution_count": 87,
   "id": "fdda17cc",
   "metadata": {},
   "outputs": [
    {
     "data": {
      "text/plain": [
       "13002"
      ]
     },
     "execution_count": 87,
     "metadata": {},
     "output_type": "execute_result"
    }
   ],
   "source": [
    "W1 = torch.randn((28*28, 16)) * 5/3 * (28*28)**-0.5\n",
    "b1 = torch.randn((16,)) * 0.01\n",
    "W2 = torch.randn((16, 16)) * 5/3 * 16**-0.5\n",
    "b2 = torch.randn((16,)) * 0.01\n",
    "W3 = torch.randn((16, 10)) * 0.1\n",
    "b3 = torch.randn((10,)) * 0\n",
    "\n",
    "params = [W1, b1, W2, b2, W3, b3]\n",
    "for p in params:\n",
    "    p.requires_grad = True\n",
    "\n",
    "sum(p.nelement() for p in params)"
   ]
  },
  {
   "cell_type": "markdown",
   "id": "d449c3b3",
   "metadata": {},
   "source": [
    "## 3. Train Network"
   ]
  },
  {
   "cell_type": "code",
   "execution_count": 88,
   "id": "be4a09d6",
   "metadata": {},
   "outputs": [],
   "source": [
    "lossi = []"
   ]
  },
  {
   "cell_type": "code",
   "execution_count": 119,
   "id": "358758b7",
   "metadata": {},
   "outputs": [
    {
     "data": {
      "text/plain": [
       "tensor(0.0734, grad_fn=<NllLossBackward0>)"
      ]
     },
     "execution_count": 119,
     "metadata": {},
     "output_type": "execute_result"
    }
   ],
   "source": [
    "lr = 0.01\n",
    "batch_size = 32\n",
    "\n",
    "for i in range(50000):\n",
    "    batch = torch.randint(0, Xtr.shape[0], (batch_size,))\n",
    "\n",
    "    L1_preact = Xtr[batch].view(-1, 28*28) @ W1 + b1\n",
    "    L1 = torch.tanh(L1_preact)\n",
    "\n",
    "    L2_preact = L1 @ W2 + b2\n",
    "    L2 = torch.tanh(L2_preact)\n",
    "\n",
    "    L3 = L2 @ W3 + b3\n",
    "\n",
    "    loss = F.cross_entropy(L3, Ytr[batch])\n",
    "    lossi.append(loss.item())\n",
    "\n",
    "    for p in params:\n",
    "        p.grad = None\n",
    "\n",
    "    loss.backward()\n",
    "\n",
    "    for p in params:\n",
    "        p.data -= lr * p.grad\n",
    "    \n",
    "loss"
   ]
  },
  {
   "cell_type": "markdown",
   "id": "5f710eea",
   "metadata": {},
   "source": [
    "### 3.1. Check quality of initialization (add a 'break' at the end of the training loop)"
   ]
  },
  {
   "cell_type": "code",
   "execution_count": null,
   "id": "47befe7f",
   "metadata": {},
   "outputs": [
    {
     "data": {
      "image/png": "[encoded data removed]",
      "text/plain": [
       "<Figure size 640x480 with 2 Axes>"
      ]
     },
     "metadata": {},
     "output_type": "display_data"
    }
   ],
   "source": [
    "## preactivations must have normal distribution, ideal for tanh\n",
    "fig, axs = plt.subplots(1, 2)\n",
    "axs[0].hist(L1_preact.view(-1).tolist(), 50);\n",
    "axs[1].hist(L2_preact.view(-1).tolist(), 50);"
   ]
  },
  {
   "cell_type": "code",
   "execution_count": null,
   "id": "d2e8ec84",
   "metadata": {},
   "outputs": [
    {
     "data": {
      "text/plain": [
       "<matplotlib.image.AxesImage at 0x7fbce6d73770>"
      ]
     },
     "execution_count": 73,
     "metadata": {},
     "output_type": "execute_result"
    },
    {
     "data": {
      "image/png": "[encoded data removed]",
      "text/plain": [
       "<Figure size 640x480 with 2 Axes>"
      ]
     },
     "metadata": {},
     "output_type": "display_data"
    }
   ],
   "source": [
    "## tanch activation must not be saturated so gradients flow through them\n",
    "fig, axs = plt.subplots(1, 2)\n",
    "axs[0].imshow(torch.abs(L1) > 0.95, cmap='gray')\n",
    "axs[1].imshow(torch.abs(L2) > 0.95, cmap='gray')"
   ]
  },
  {
   "cell_type": "code",
   "execution_count": null,
   "id": "52880c6f",
   "metadata": {},
   "outputs": [
    {
     "data": {
      "image/png": "[encoded data removed]",
      "text/plain": [
       "<Figure size 640x480 with 1 Axes>"
      ]
     },
     "metadata": {},
     "output_type": "display_data"
    }
   ],
   "source": [
    "## NN is not confidently wrong at initialization, probabilities are similar, saves training time\n",
    "plt.hist(L3.view(-1).tolist(), 50);"
   ]
  },
  {
   "cell_type": "code",
   "execution_count": null,
   "id": "e66b5b27",
   "metadata": {},
   "outputs": [
    {
     "data": {
      "text/plain": [
       "(tensor(2.2247, grad_fn=<NllLossBackward0>), tensor(2.3026))"
      ]
     },
     "execution_count": 83,
     "metadata": {},
     "output_type": "execute_result"
    }
   ],
   "source": [
    "## loss at initialization, expected loss at initialization \n",
    "loss, -torch.log(torch.tensor(1/10))"
   ]
  },
  {
   "cell_type": "markdown",
   "id": "3b9bc342",
   "metadata": {},
   "source": [
    "### 3.2. Monitor training efficacy (remove 'break' at the end of the training loop)"
   ]
  },
  {
   "cell_type": "code",
   "execution_count": 131,
   "id": "cd956d24",
   "metadata": {},
   "outputs": [
    {
     "data": {
      "text/plain": [
       "[<matplotlib.lines.Line2D at 0x7fbd7210a2a0>]"
      ]
     },
     "execution_count": 131,
     "metadata": {},
     "output_type": "execute_result"
    },
    {
     "data": {
      "image/png": "[encoded data removed]",
      "text/plain": [
       "<Figure size 640x480 with 1 Axes>"
      ]
     },
     "metadata": {},
     "output_type": "display_data"
    }
   ],
   "source": [
    "plt.plot(torch.tensor(lossi[-10000:]).view(-1, 1000).mean(1))"
   ]
  },
  {
   "cell_type": "code",
   "execution_count": 122,
   "id": "86a4c3e3",
   "metadata": {},
   "outputs": [
    {
     "data": {
      "text/plain": [
       "(tensor(0.1819, grad_fn=<NllLossBackward0>),\n",
       " tensor(0.0734, grad_fn=<NllLossBackward0>))"
      ]
     },
     "execution_count": 122,
     "metadata": {},
     "output_type": "execute_result"
    }
   ],
   "source": [
    "batch = torch.randint(0, Xte.shape[0], (1000,))\n",
    "L1_preact = Xte[batch].view(-1, 28*28) @ W1 + b1\n",
    "L1 = torch.tanh(L1_preact)\n",
    "\n",
    "L2_preact = L1 @ W2 + b2\n",
    "L2 = torch.tanh(L2_preact)\n",
    "\n",
    "L3 = L2 @ W3 + b3\n",
    "\n",
    "loss_te = F.cross_entropy(L3, Yte[batch])\n",
    "\n",
    "loss_te, loss"
   ]
  },
  {
   "cell_type": "markdown",
   "id": "1994007b",
   "metadata": {},
   "source": [
    "## 4. Test"
   ]
  },
  {
   "cell_type": "code",
   "execution_count": 153,
   "id": "0b5b9df9",
   "metadata": {},
   "outputs": [],
   "source": [
    "hits = 0\n",
    "fails = 0\n",
    "for i in range(Xte.shape[0]):\n",
    "    L1 = torch.tanh(Xte[i].view(-1) @ W1 + b1)\n",
    "    L2 = torch.tanh(L1 @ W2 + b2)\n",
    "    L3 = L2 @ W3 + b3\n",
    "    probs = torch.softmax(L3, 0)\n",
    "    if (torch.max(probs, 0).indices == Yte[i]):\n",
    "        hits += 1\n",
    "    else:\n",
    "        fails += 1"
   ]
  },
  {
   "cell_type": "code",
   "execution_count": 157,
   "id": "d19b8e83",
   "metadata": {},
   "outputs": [
    {
     "data": {
      "text/plain": [
       "(9565, 435, 95.65)"
      ]
     },
     "execution_count": 157,
     "metadata": {},
     "output_type": "execute_result"
    }
   ],
   "source": [
    "hits, fails, hits/(hits + fails) * 100"
   ]
  },
  {
   "cell_type": "markdown",
   "id": "c7b923ea",
   "metadata": {},
   "source": [
    "## 5. Save model"
   ]
  },
  {
   "cell_type": "code",
   "execution_count": 187,
   "id": "8178879e",
   "metadata": {},
   "outputs": [],
   "source": [
    "save_path = os.path.join('digit-identifier', 'models', 'model1.nn784x16x16x10')\n",
    "model = []\n",
    "for p in params:\n",
    "    model.extend(p.view(-1).tolist())\n",
    "\n",
    "with open(save_path, 'wb') as out_file:\n",
    "    out_file.write(struct.pack(f'{len(model)}f', *model))"
   ]
  }
 ],
 "metadata": {
  "kernelspec": {
   "display_name": "Python 3 (ipykernel)",
   "language": "python",
   "name": "python3"
  }
 },
 "nbformat": 4,
 "nbformat_minor": 5
}
